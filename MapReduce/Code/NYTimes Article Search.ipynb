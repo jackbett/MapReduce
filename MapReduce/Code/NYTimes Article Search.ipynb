{
 "cells": [
  {
   "cell_type": "code",
   "execution_count": 1,
   "metadata": {},
   "outputs": [],
   "source": [
    "from nytimesarticle import articleAPI\n",
    "api = articleAPI('qzkGa28BGumJRK7BAGg43NLgCRMiGGcX')"
   ]
  },
  {
   "cell_type": "code",
   "execution_count": 40,
   "metadata": {},
   "outputs": [],
   "source": [
    "TotalBasketBallArticles = []\n",
    "TotalSoccerArticles = []\n",
    "TotalFootBallArticles = []\n",
    "TotalCricketArticles = []\n",
    "TotalTennisArticles = [] \n",
    "\n",
    "def articleSearch(articleList):\n",
    "    for i in range(0, 10) :\n",
    "        articles = api.search(q = 'Tennis', begin_date = 201809015, page = i)\n",
    "        for x in range(0, 10):\n",
    "            articleList.append(articles['response']['docs'][x]['web_url'])\n",
    "\n",
    "# articleSearch(TotalBasketBallArticles)\n",
    "# articleSearch(TotalSoccerArticles)\n",
    "# articleSearch(TotalFootBallArticles)\n",
    "# articleSearch(TotalCricketArticles)\n",
    "articleSearch(TotalTennisArticles)"
   ]
  },
  {
   "cell_type": "code",
   "execution_count": 41,
   "metadata": {},
   "outputs": [
    {
     "name": "stdout",
     "output_type": "stream",
     "text": [
      "https://www.nytimes.com/2018/12/21/sports/tennis/chun-hsin-tseng-taiwan.html\n"
     ]
    },
    {
     "data": {
      "text/plain": [
       "100"
      ]
     },
     "execution_count": 41,
     "metadata": {},
     "output_type": "execute_result"
    }
   ],
   "source": [
    "# TotalBasketBallArticles[0]\n",
    "print(TotalTennisArticles[10])\n",
    "len(TotalTennisArticles)"
   ]
  },
  {
   "cell_type": "code",
   "execution_count": 42,
   "metadata": {},
   "outputs": [],
   "source": [
    "from bs4 import BeautifulSoup\n",
    "import requests\n",
    "\n",
    "parsedBasketBallArticles = []\n",
    "parsedSoccerArticles = []\n",
    "parsedFootBallArticles = []\n",
    "parsedCricketArticles = []\n",
    "parsedTennisArticles = []\n",
    "\n",
    "def requestArticles(articles, parsedArticles): \n",
    "    articleHTML = []\n",
    "    for x in range(0, len(articles)):\n",
    "        articleHTML.append(requests.get(articles[x]))\n",
    "    \n",
    "    for y in range(0, len(articleHTML)):\n",
    "        needsEncoding = articleHTML[y].text\n",
    "        soup = BeautifulSoup(needsEncoding.encode(\"utf-8-sig\").decode(), 'html.parser')\n",
    "        text = soup.findAll('p', class_ = 'css-1ygdjhk evys1bk0')\n",
    "        wholeArticle = \"\"\n",
    "        \n",
    "        for paragraph in text:\n",
    "            wholeArticle += paragraph.get_text()\n",
    "        \n",
    "        parsedArticles.append(wholeArticle)\n",
    "        \n",
    "# requestArticles(TotalBasketBallArticles, parsedBasketBallArticles)\n",
    "# requestArticles(TotalFootBallArticles, parsedFootBallArticles)\n",
    "# requestArticles(TotalSoccerArticles, parsedSoccerArticles)\n",
    "# requestArticles(TotalCricketArticles, parsedCricketArticles)\n",
    "requestArticles(TotalTennisArticles, parsedTennisArticles)\n"
   ]
  },
  {
   "cell_type": "code",
   "execution_count": 44,
   "metadata": {},
   "outputs": [
    {
     "name": "stdout",
     "output_type": "stream",
     "text": [
      "MELBOURNE, Australia — For Simona Halep, it was better to think that the United States Open wasn’t held last year.“Never happened,” Halep said, grinning. “That tournament didn’t exist.”Top-seeded Halep was ousted from that tournament within its opening hours, blasted off the court by Kaia Kanepi in a 6-2, 6-4 demolition that sent shock waves through the newly built Louis Armstrong Stadium.Five months and 10,000 miles removed from that scene on Tuesday evening at the Australian Open, Halep was able to build back her sturdy defenses, digging into a gritty first-round rematch and defeating Kanepi, 6-7 (2), 6-2, 6-4, in 2 hours 11 minutes.Halep, who has had a tendency to give into negativity when being outplayed, did not relent this time. She expressed frustration, exasperation and disbelief after Kanepi struck many of her 40 winners, but remained dialed in throughout.Halep said all she could control was her effort.“I think it’s the best match I played in the last period, not giving up for one ball,” she said. “I think I improved in that direction.”Halep’s consistent, rugged defense eventually outlasted Kanepi’s attacking; Halep hit only eight unforced errors in the final two sets, compared with 36 by Kanepi.Though a first-round win against a player ranked 71st would not normally be a milestone for a top seed, it was a steep test for Halep. Not only had she been clobbered by Kanepi in their previous meeting, Halep had not won a match since, losing three times and pulling out of the year-end championships with a back injury.Halep, who has maintained her No. 1 ranking despite not winning a match since August in Cincinnati, projected no precariousness. “If I’m thinking of all these things,” she said, “I cannot play tennis anymore.”A No. 1 ranked player whose ranking merits a Wheaties box but whose dominance belongs on the side of a milk carton is hardly a rare phenomenon in women’s tennis. Dinara Safina, Ana Ivanovic and Angelique Kerber are among those went through crises of confidence when they reached the top of the ladder. Halep preached contentment, particularly after winning a long-awaited first Grand Slam title at last year’s French Open.“I’m not putting pressure on myself anymore with the results, but I’m still motivated,” she said. “What comes now, it’s a bonus.”Halep split with her longtime coach Darren Cahill at the end of last season, but she projected much of the clarity he instilled in her game — perhaps because the two are still in close contact. Cahill, also an analyst for ESPN, the American rights holder for the tournament, was on her court during pretournament practices.“It’s great to have him around,” she said. “Also it’s tough that he’s not in my team anymore. I don’t know what I’m going to do. For sure, I need a coach, because at this level you cannot do it alone. I’m just chilling for the moment, and we will see after this tournament.”Because of Halep’s slide, and the even distribution of titles around the top tier of the tour, nine women can leave Melbourne with the No. 1 ranking at the tournament’s end. Halep, who finished the last two seasons at the top, said retaining the spot was not in the front of her mind.“The ranking doesn’t matter anymore,” she said. “I play tennis because I like it. Now my challenge is to win every match I play. I know it’s probably impossible, but I’m trying just to stay with this thought, and give it my best.”\n"
     ]
    },
    {
     "data": {
      "text/plain": [
       "100"
      ]
     },
     "execution_count": 44,
     "metadata": {},
     "output_type": "execute_result"
    }
   ],
   "source": [
    "print(parsedTennisArticles[99])\n",
    "len(parsedTennisArticles)"
   ]
  },
  {
   "cell_type": "code",
   "execution_count": 54,
   "metadata": {},
   "outputs": [],
   "source": [
    "import csv\n",
    "\n",
    "with open('test.csv', mode = 'a', newline='\\n', encoding = 'utf-8-sig') as articles:\n",
    "    articleWriter = csv.writer(articles, delimiter = ',')\n",
    "    for i in parsedTennisArticles : \n",
    "        articleWriter.writerow([i])\n",
    "articles.close()"
   ]
  },
  {
   "cell_type": "code",
   "execution_count": null,
   "metadata": {},
   "outputs": [],
   "source": []
  },
  {
   "cell_type": "code",
   "execution_count": null,
   "metadata": {},
   "outputs": [],
   "source": []
  }
 ],
 "metadata": {
  "kernelspec": {
   "display_name": "Python 3",
   "language": "python",
   "name": "python3"
  },
  "language_info": {
   "codemirror_mode": {
    "name": "ipython",
    "version": 3
   },
   "file_extension": ".py",
   "mimetype": "text/x-python",
   "name": "python",
   "nbconvert_exporter": "python",
   "pygments_lexer": "ipython3",
   "version": "3.7.1"
  }
 },
 "nbformat": 4,
 "nbformat_minor": 2
}
