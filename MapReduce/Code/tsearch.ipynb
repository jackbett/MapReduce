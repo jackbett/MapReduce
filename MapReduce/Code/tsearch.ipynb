{
 "cells": [
  {
   "cell_type": "code",
   "execution_count": null,
   "metadata": {},
   "outputs": [],
   "source": [
    "library(rtweet)\n",
    "create_token(\n",
    "  app = \"twitter_cse_487\",\n",
    "  consumer_key = \"AvBvCnIZwhoiWcE4T0IAuWWeM\",\n",
    "  consumer_secret = \"ZqgnlhOycqwrHuV9Cm7GCHpGlxobZgnQQyS0pcMHMtTldotDyl\")\n",
    "\n",
    "\n",
    "\n"
   ]
  },
  {
   "cell_type": "code",
   "execution_count": null,
   "metadata": {},
   "outputs": [],
   "source": [
    "\n",
    "# Twitter Search\n",
    "rt <- search_tweets(\n",
    "  \"Sports\", geocode = lookup_coords(\"usa\"),include_rts = FALSE, n = 20000, lang = \"en\", retruyonratelimit = TRUE)\n",
    "tweet  = rt$text\n",
    "tweeter = as.character(tweet)\n",
    "dataTweet = data.frame(\"text\" = tweeter)\n",
    "\n",
    "## create lat/lng variables using all available tweet and profile geo-location data\n",
    "\n",
    "\n",
    "save_as_csv(dataTweet, file_name = \"newdata.csv\", prepend_ids = TRUE, na = \"\",fileEncoding = \"UTF-8\")\n",
    "\n",
    "\n",
    "\n",
    "\n",
    "# End Twitter Search, \n",
    "# User locations saved as screen name lat long\n",
    "# TwitterData Saved as all twitter data\n",
    "\n",
    " ######################################################################################\n",
    "\n",
    "\n"
   ]
  },
  {
   "cell_type": "code",
   "execution_count": null,
   "metadata": {},
   "outputs": [],
   "source": [
    "# MyData <- read.csv(file=\"TwitterData.csv\", header=TRUE, sep=\",\")\n",
    "# MyData2 <- read.csv(file=\"TwitterData1.csv\", header=TRUE, sep=\",\")\n",
    "# MyData3 <- rbind(MyData, MyData2)\n",
    "# save_as_csv(MyData3, file_name = \"TwitterDataCombined.csv\", prepend_ids = TRUE, na = \"\",fileEncoding = \"UTF-8\")\n"
   ]
  },
  {
   "cell_type": "code",
   "execution_count": null,
   "metadata": {},
   "outputs": [],
   "source": []
  }
 ],
 "metadata": {
  "kernelspec": {
   "display_name": "R",
   "language": "R",
   "name": "ir"
  },
  "language_info": {
   "codemirror_mode": "r",
   "file_extension": ".r",
   "mimetype": "text/x-r-source",
   "name": "R",
   "pygments_lexer": "r",
   "version": "3.5.1"
  }
 },
 "nbformat": 4,
 "nbformat_minor": 2
}
